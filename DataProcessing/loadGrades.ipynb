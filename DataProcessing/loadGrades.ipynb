{
 "metadata": {
  "language_info": {
   "codemirror_mode": {
    "name": "ipython",
    "version": 3
   },
   "file_extension": ".py",
   "mimetype": "text/x-python",
   "name": "python",
   "nbconvert_exporter": "python",
   "pygments_lexer": "ipython3",
   "version": "3.8.5-final"
  },
  "orig_nbformat": 2,
  "kernelspec": {
   "name": "python3",
   "display_name": "Python 3.8.5 32-bit",
   "metadata": {
    "interpreter": {
     "hash": "42f2630880e0deadc8b1137912377d35c7ef5f0e4dfbcdeaadf4439bd2c57667"
    }
   }
  }
 },
 "nbformat": 4,
 "nbformat_minor": 2,
 "cells": [
  {
   "cell_type": "code",
   "execution_count": 1,
   "metadata": {},
   "outputs": [],
   "source": [
    "import pandas as pd"
   ]
  },
  {
   "cell_type": "code",
   "execution_count": 3,
   "metadata": {},
   "outputs": [],
   "source": [
    "data = pd.read_csv('grades.csv');"
   ]
  },
  {
   "cell_type": "code",
   "execution_count": 14,
   "metadata": {},
   "outputs": [
    {
     "output_type": "stream",
     "name": "stdout",
     "text": [
      "<class 'pandas.core.frame.DataFrame'>\nRangeIndex: 34 entries, 0 to 33\nData columns (total 28 columns):\n #   Column                                                                Non-Null Count  Dtype  \n---  ------                                                                --------------  -----  \n 0   Group                                                                 34 non-null     object \n 1   Title                                                                 34 non-null     object \n 2   Sender Information                                                    34 non-null     object \n 3   Receiver Information (+ Name)                                         34 non-null     object \n 4   Date                                                                  34 non-null     object \n 5   Use the letterhead (Sender information)                               34 non-null     object \n 6   Date.1                                                                34 non-null     object \n 7   Receiver information (+ Name)                                         34 non-null     object \n 8   Salutation (ending with a colon)                                      34 non-null     object \n 9   Link to the previous connections / correspondence                     34 non-null     object \n 10  Importance or benefits                                                34 non-null     object \n 11  What’s next? (correspondence)                                         34 non-null     object \n 12  Sincerely à Sign à Sender information                                 34 non-null     object \n 13  Organization: Appropriate headings and sub-headings                   34 non-null     object \n 14  Problem                                                               34 non-null     object \n 15  Proposed solution                                                     34 non-null     object \n 16  Main benefits of this proposal                                        34 non-null     object \n 17  Is it self-contained?                                                 34 non-null     object \n 18  What is the purpose? What is it that the customer is looking for?     34 non-null     object \n 19  Describe the problem (Why is the current situation inadequate?)       34 non-null     object \n 20  Scope of the proposal                                                 34 non-null     object \n 21  Format of the proposal                                                34 non-null     object \n 22  Technical / Management                                                34 non-null     object \n 23  Main benefits (Repeated) and features: Technical and Market Benefits  34 non-null     object \n 24  Summary of what should be done                                        34 non-null     object \n 25  Unnamed: 25                                                           34 non-null     object \n 26  Remarks                                                               34 non-null     object \n 27  Total Marks                                                           34 non-null     float64\ndtypes: float64(1), object(27)\nmemory usage: 3.9+ KB\n"
     ]
    }
   ],
   "source": [
    "data.info()"
   ]
  },
  {
   "cell_type": "code",
   "execution_count": 18,
   "metadata": {
    "tags": []
   },
   "outputs": [],
   "source": [
    "dataToSave = [dict(data.loc[i]) for i in range(34)]"
   ]
  },
  {
   "cell_type": "code",
   "execution_count": 20,
   "metadata": {},
   "outputs": [],
   "source": [
    "import json\n",
    "\n",
    "with open(\"test.json\", \"w\", encoding=\"utf-8\") as file:\n",
    "    json.dump(dataToSave, file, indent=2)"
   ]
  },
  {
   "cell_type": "code",
   "execution_count": null,
   "metadata": {},
   "outputs": [],
   "source": []
  }
 ]
}