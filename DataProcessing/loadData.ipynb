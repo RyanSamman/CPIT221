{
 "metadata": {
  "language_info": {
   "codemirror_mode": {
    "name": "ipython",
    "version": 3
   },
   "file_extension": ".py",
   "mimetype": "text/x-python",
   "name": "python",
   "nbconvert_exporter": "python",
   "pygments_lexer": "ipython3",
   "version": "3.8.5-final"
  },
  "orig_nbformat": 2,
  "kernelspec": {
   "name": "python3",
   "display_name": "Python 3.8.5 32-bit",
   "metadata": {
    "interpreter": {
     "hash": "42f2630880e0deadc8b1137912377d35c7ef5f0e4dfbcdeaadf4439bd2c57667"
    }
   }
  }
 },
 "nbformat": 4,
 "nbformat_minor": 2,
 "cells": [
  {
   "cell_type": "code",
   "execution_count": 6,
   "metadata": {},
   "outputs": [],
   "source": [
    "import pandas as pd"
   ]
  },
  {
   "cell_type": "code",
   "execution_count": 11,
   "metadata": {},
   "outputs": [],
   "source": [
    "data = pd.read_excel('data.xlsx')"
   ]
  },
  {
   "cell_type": "code",
   "execution_count": 12,
   "metadata": {},
   "outputs": [
    {
     "output_type": "stream",
     "name": "stdout",
     "text": [
      "<class 'pandas.core.frame.DataFrame'>\nRangeIndex: 35 entries, 0 to 34\nData columns (total 29 columns):\n #   Column                                                                Non-Null Count  Dtype  \n---  ------                                                                --------------  -----  \n 0   Unnamed: 0                                                            34 non-null     object \n 1   Title                                                                 35 non-null     object \n 2   Sender Information                                                    35 non-null     object \n 3   Receiver Information (+ Name)                                         35 non-null     object \n 4   Date                                                                  35 non-null     object \n 5   Use the letterhead (Sender information)                               35 non-null     object \n 6   Date.1                                                                35 non-null     object \n 7   Receiver information (+ Name)                                         35 non-null     object \n 8   Salutation (ending with a colon)                                      35 non-null     object \n 9   Link to the previous connections / correspondence                     35 non-null     object \n 10  Importance or benefits                                                35 non-null     object \n 11  What’s next? (correspondence)                                         35 non-null     object \n 12  Sincerely à Sign à Sender information                                 35 non-null     object \n 13  Organization: Appropriate headings and sub-headings                   35 non-null     object \n 14  Problem                                                               35 non-null     object \n 15  Proposed solution                                                     35 non-null     object \n 16  Main benefits of this proposal                                        35 non-null     object \n 17  Is it self-contained?                                                 35 non-null     object \n 18  What is the purpose? What is it that the customer is looking for?     35 non-null     object \n 19  Describe the problem (Why is the current situation inadequate?)       35 non-null     object \n 20  Scope of the proposal                                                 35 non-null     object \n 21  Format of the proposal                                                35 non-null     object \n 22  Technical / Management                                                35 non-null     object \n 23  Main benefits (Repeated) and features: Technical and Market Benefits  35 non-null     object \n 24  Summary of what should be done                                        35 non-null     object \n 25  Unnamed: 25                                                           35 non-null     object \n 26  Remarks                                                               34 non-null     object \n 27  Total Marks                                                           35 non-null     float64\n 28  Total/15                                                              35 non-null     float64\ndtypes: float64(2), object(27)\nmemory usage: 4.3+ KB\n"
     ]
    }
   ],
   "source": [
    "data.info()"
   ]
  },
  {
   "cell_type": "code",
   "execution_count": 13,
   "metadata": {},
   "outputs": [
    {
     "output_type": "execute_result",
     "data": {
      "text/plain": [
       "  Unnamed: 0 Title Sender Information Receiver Information (+ Name) Date  \\\n",
       "0        NaN     1                  1                             1    1   \n",
       "1    Group 1     Y                  Y                             Y    Y   \n",
       "2    Group 2     Y                  Y                             Y    Y   \n",
       "3    Group 3   0.5                  N                             Y    Y   \n",
       "4    Group 4     Y                  Y                             Y    Y   \n",
       "\n",
       "  Use the letterhead (Sender information) Date.1  \\\n",
       "0                                       1      1   \n",
       "1                                       N      Y   \n",
       "2                                       Y      Y   \n",
       "3                                       N      Y   \n",
       "4                                       Y      Y   \n",
       "\n",
       "  Receiver information (+ Name) Salutation (ending with a colon)  \\\n",
       "0                             1                                1   \n",
       "1                             Y                                Y   \n",
       "2                             Y                                Y   \n",
       "3                             N                              0.5   \n",
       "4                             Y                                Y   \n",
       "\n",
       "  Link to the previous connections / correspondence  ...  \\\n",
       "0                                                 1  ...   \n",
       "1                                                 Y  ...   \n",
       "2                                                 Y  ...   \n",
       "3                                                 Y  ...   \n",
       "4                                                 Y  ...   \n",
       "\n",
       "  Describe the problem (Why is the current situation inadequate?)  \\\n",
       "0                                                  1                \n",
       "1                                                  Y                \n",
       "2                                                  Y                \n",
       "3                                                  Y                \n",
       "4                                                  Y                \n",
       "\n",
       "  Scope of the proposal Format of the proposal Technical / Management  \\\n",
       "0                     1                      1                      1   \n",
       "1                     Y                      N                      Y   \n",
       "2                     Y                      N                      Y   \n",
       "3                     Y                      N                      Y   \n",
       "4                     Y                      N                      Y   \n",
       "\n",
       "  Main benefits (Repeated) and features: Technical and Market Benefits  \\\n",
       "0                                                  1                     \n",
       "1                                                  Y                     \n",
       "2                                                  Y                     \n",
       "3                                                  Y                     \n",
       "4                                                  Y                     \n",
       "\n",
       "  Summary of what should be done Unnamed: 25  \\\n",
       "0                              1           1   \n",
       "1                              Y           Y   \n",
       "2                              N           N   \n",
       "3                              N           N   \n",
       "4                              N           N   \n",
       "\n",
       "                                          Remarks Total Marks Total/15  \n",
       "0                                             NaN        25.0     15.0  \n",
       "1                             CPCS 202 to Dr Iyad        23.0     13.8  \n",
       "2  CPCS 202 to Dr Waseem; Writing can be improved        21.0     12.6  \n",
       "3              CPCS 202 to Dr Rayed and Dr Buhari        15.0      9.0  \n",
       "4                                        CPCS 202        19.0     11.4  \n",
       "\n",
       "[5 rows x 29 columns]"
      ],
      "text/html": "<div>\n<style scoped>\n    .dataframe tbody tr th:only-of-type {\n        vertical-align: middle;\n    }\n\n    .dataframe tbody tr th {\n        vertical-align: top;\n    }\n\n    .dataframe thead th {\n        text-align: right;\n    }\n</style>\n<table border=\"1\" class=\"dataframe\">\n  <thead>\n    <tr style=\"text-align: right;\">\n      <th></th>\n      <th>Unnamed: 0</th>\n      <th>Title</th>\n      <th>Sender Information</th>\n      <th>Receiver Information (+ Name)</th>\n      <th>Date</th>\n      <th>Use the letterhead (Sender information)</th>\n      <th>Date.1</th>\n      <th>Receiver information (+ Name)</th>\n      <th>Salutation (ending with a colon)</th>\n      <th>Link to the previous connections / correspondence</th>\n      <th>...</th>\n      <th>Describe the problem (Why is the current situation inadequate?)</th>\n      <th>Scope of the proposal</th>\n      <th>Format of the proposal</th>\n      <th>Technical / Management</th>\n      <th>Main benefits (Repeated) and features: Technical and Market Benefits</th>\n      <th>Summary of what should be done</th>\n      <th>Unnamed: 25</th>\n      <th>Remarks</th>\n      <th>Total Marks</th>\n      <th>Total/15</th>\n    </tr>\n  </thead>\n  <tbody>\n    <tr>\n      <th>0</th>\n      <td>NaN</td>\n      <td>1</td>\n      <td>1</td>\n      <td>1</td>\n      <td>1</td>\n      <td>1</td>\n      <td>1</td>\n      <td>1</td>\n      <td>1</td>\n      <td>1</td>\n      <td>...</td>\n      <td>1</td>\n      <td>1</td>\n      <td>1</td>\n      <td>1</td>\n      <td>1</td>\n      <td>1</td>\n      <td>1</td>\n      <td>NaN</td>\n      <td>25.0</td>\n      <td>15.0</td>\n    </tr>\n    <tr>\n      <th>1</th>\n      <td>Group 1</td>\n      <td>Y</td>\n      <td>Y</td>\n      <td>Y</td>\n      <td>Y</td>\n      <td>N</td>\n      <td>Y</td>\n      <td>Y</td>\n      <td>Y</td>\n      <td>Y</td>\n      <td>...</td>\n      <td>Y</td>\n      <td>Y</td>\n      <td>N</td>\n      <td>Y</td>\n      <td>Y</td>\n      <td>Y</td>\n      <td>Y</td>\n      <td>CPCS 202 to Dr Iyad</td>\n      <td>23.0</td>\n      <td>13.8</td>\n    </tr>\n    <tr>\n      <th>2</th>\n      <td>Group 2</td>\n      <td>Y</td>\n      <td>Y</td>\n      <td>Y</td>\n      <td>Y</td>\n      <td>Y</td>\n      <td>Y</td>\n      <td>Y</td>\n      <td>Y</td>\n      <td>Y</td>\n      <td>...</td>\n      <td>Y</td>\n      <td>Y</td>\n      <td>N</td>\n      <td>Y</td>\n      <td>Y</td>\n      <td>N</td>\n      <td>N</td>\n      <td>CPCS 202 to Dr Waseem; Writing can be improved</td>\n      <td>21.0</td>\n      <td>12.6</td>\n    </tr>\n    <tr>\n      <th>3</th>\n      <td>Group 3</td>\n      <td>0.5</td>\n      <td>N</td>\n      <td>Y</td>\n      <td>Y</td>\n      <td>N</td>\n      <td>Y</td>\n      <td>N</td>\n      <td>0.5</td>\n      <td>Y</td>\n      <td>...</td>\n      <td>Y</td>\n      <td>Y</td>\n      <td>N</td>\n      <td>Y</td>\n      <td>Y</td>\n      <td>N</td>\n      <td>N</td>\n      <td>CPCS 202 to Dr Rayed and Dr Buhari</td>\n      <td>15.0</td>\n      <td>9.0</td>\n    </tr>\n    <tr>\n      <th>4</th>\n      <td>Group 4</td>\n      <td>Y</td>\n      <td>Y</td>\n      <td>Y</td>\n      <td>Y</td>\n      <td>Y</td>\n      <td>Y</td>\n      <td>Y</td>\n      <td>Y</td>\n      <td>Y</td>\n      <td>...</td>\n      <td>Y</td>\n      <td>Y</td>\n      <td>N</td>\n      <td>Y</td>\n      <td>Y</td>\n      <td>N</td>\n      <td>N</td>\n      <td>CPCS 202</td>\n      <td>19.0</td>\n      <td>11.4</td>\n    </tr>\n  </tbody>\n</table>\n<p>5 rows × 29 columns</p>\n</div>"
     },
     "metadata": {},
     "execution_count": 13
    }
   ],
   "source": [
    "data.head()"
   ]
  },
  {
   "cell_type": "code",
   "execution_count": null,
   "metadata": {},
   "outputs": [],
   "source": []
  },
  {
   "cell_type": "code",
   "execution_count": 27,
   "metadata": {},
   "outputs": [],
   "source": [
    "# Remove unwanted columns\n",
    "cleanedData = data.drop([\"Unnamed: 0\", \"Remarks\", \"Total/15\"], axis='columns')\n",
    "# Remove top record\n",
    "cleanedData = cleanedData.loc[1:]"
   ]
  },
  {
   "cell_type": "code",
   "execution_count": 29,
   "metadata": {},
   "outputs": [
    {
     "output_type": "execute_result",
     "data": {
      "text/plain": [
       "  Title Sender Information Receiver Information (+ Name) Date  \\\n",
       "1     Y                  Y                             Y    Y   \n",
       "2     Y                  Y                             Y    Y   \n",
       "3   0.5                  N                             Y    Y   \n",
       "4     Y                  Y                             Y    Y   \n",
       "5     Y                  Y                             Y    Y   \n",
       "\n",
       "  Use the letterhead (Sender information) Date.1  \\\n",
       "1                                       N      Y   \n",
       "2                                       Y      Y   \n",
       "3                                       N      Y   \n",
       "4                                       Y      Y   \n",
       "5                                       Y      Y   \n",
       "\n",
       "  Receiver information (+ Name) Salutation (ending with a colon)  \\\n",
       "1                             Y                                Y   \n",
       "2                             Y                                Y   \n",
       "3                             N                              0.5   \n",
       "4                             Y                                Y   \n",
       "5                             Y                                Y   \n",
       "\n",
       "  Link to the previous connections / correspondence Importance or benefits  \\\n",
       "1                                                 Y                      Y   \n",
       "2                                                 Y                      Y   \n",
       "3                                                 Y                      N   \n",
       "4                                                 Y                      Y   \n",
       "5                                                 Y                      Y   \n",
       "\n",
       "   ... Is it self-contained?  \\\n",
       "1  ...                     Y   \n",
       "2  ...                     Y   \n",
       "3  ...                     Y   \n",
       "4  ...                     N   \n",
       "5  ...                     Y   \n",
       "\n",
       "  What is the purpose? What is it that the customer is looking for?  \\\n",
       "1                                                  Y                  \n",
       "2                                                  Y                  \n",
       "3                                                  Y                  \n",
       "4                                                  Y                  \n",
       "5                                                  Y                  \n",
       "\n",
       "  Describe the problem (Why is the current situation inadequate?)  \\\n",
       "1                                                  Y                \n",
       "2                                                  Y                \n",
       "3                                                  Y                \n",
       "4                                                  Y                \n",
       "5                                                  Y                \n",
       "\n",
       "  Scope of the proposal Format of the proposal Technical / Management  \\\n",
       "1                     Y                      N                      Y   \n",
       "2                     Y                      N                      Y   \n",
       "3                     Y                      N                      Y   \n",
       "4                     Y                      N                      Y   \n",
       "5                     Y                      Y                      Y   \n",
       "\n",
       "  Main benefits (Repeated) and features: Technical and Market Benefits  \\\n",
       "1                                                  Y                     \n",
       "2                                                  Y                     \n",
       "3                                                  Y                     \n",
       "4                                                  Y                     \n",
       "5                                                  Y                     \n",
       "\n",
       "  Summary of what should be done Unnamed: 25 Total Marks  \n",
       "1                              Y           Y        23.0  \n",
       "2                              N           N        21.0  \n",
       "3                              N           N        15.0  \n",
       "4                              N           N        19.0  \n",
       "5                              Y           N        23.0  \n",
       "\n",
       "[5 rows x 26 columns]"
      ],
      "text/html": "<div>\n<style scoped>\n    .dataframe tbody tr th:only-of-type {\n        vertical-align: middle;\n    }\n\n    .dataframe tbody tr th {\n        vertical-align: top;\n    }\n\n    .dataframe thead th {\n        text-align: right;\n    }\n</style>\n<table border=\"1\" class=\"dataframe\">\n  <thead>\n    <tr style=\"text-align: right;\">\n      <th></th>\n      <th>Title</th>\n      <th>Sender Information</th>\n      <th>Receiver Information (+ Name)</th>\n      <th>Date</th>\n      <th>Use the letterhead (Sender information)</th>\n      <th>Date.1</th>\n      <th>Receiver information (+ Name)</th>\n      <th>Salutation (ending with a colon)</th>\n      <th>Link to the previous connections / correspondence</th>\n      <th>Importance or benefits</th>\n      <th>...</th>\n      <th>Is it self-contained?</th>\n      <th>What is the purpose? What is it that the customer is looking for?</th>\n      <th>Describe the problem (Why is the current situation inadequate?)</th>\n      <th>Scope of the proposal</th>\n      <th>Format of the proposal</th>\n      <th>Technical / Management</th>\n      <th>Main benefits (Repeated) and features: Technical and Market Benefits</th>\n      <th>Summary of what should be done</th>\n      <th>Unnamed: 25</th>\n      <th>Total Marks</th>\n    </tr>\n  </thead>\n  <tbody>\n    <tr>\n      <th>1</th>\n      <td>Y</td>\n      <td>Y</td>\n      <td>Y</td>\n      <td>Y</td>\n      <td>N</td>\n      <td>Y</td>\n      <td>Y</td>\n      <td>Y</td>\n      <td>Y</td>\n      <td>Y</td>\n      <td>...</td>\n      <td>Y</td>\n      <td>Y</td>\n      <td>Y</td>\n      <td>Y</td>\n      <td>N</td>\n      <td>Y</td>\n      <td>Y</td>\n      <td>Y</td>\n      <td>Y</td>\n      <td>23.0</td>\n    </tr>\n    <tr>\n      <th>2</th>\n      <td>Y</td>\n      <td>Y</td>\n      <td>Y</td>\n      <td>Y</td>\n      <td>Y</td>\n      <td>Y</td>\n      <td>Y</td>\n      <td>Y</td>\n      <td>Y</td>\n      <td>Y</td>\n      <td>...</td>\n      <td>Y</td>\n      <td>Y</td>\n      <td>Y</td>\n      <td>Y</td>\n      <td>N</td>\n      <td>Y</td>\n      <td>Y</td>\n      <td>N</td>\n      <td>N</td>\n      <td>21.0</td>\n    </tr>\n    <tr>\n      <th>3</th>\n      <td>0.5</td>\n      <td>N</td>\n      <td>Y</td>\n      <td>Y</td>\n      <td>N</td>\n      <td>Y</td>\n      <td>N</td>\n      <td>0.5</td>\n      <td>Y</td>\n      <td>N</td>\n      <td>...</td>\n      <td>Y</td>\n      <td>Y</td>\n      <td>Y</td>\n      <td>Y</td>\n      <td>N</td>\n      <td>Y</td>\n      <td>Y</td>\n      <td>N</td>\n      <td>N</td>\n      <td>15.0</td>\n    </tr>\n    <tr>\n      <th>4</th>\n      <td>Y</td>\n      <td>Y</td>\n      <td>Y</td>\n      <td>Y</td>\n      <td>Y</td>\n      <td>Y</td>\n      <td>Y</td>\n      <td>Y</td>\n      <td>Y</td>\n      <td>Y</td>\n      <td>...</td>\n      <td>N</td>\n      <td>Y</td>\n      <td>Y</td>\n      <td>Y</td>\n      <td>N</td>\n      <td>Y</td>\n      <td>Y</td>\n      <td>N</td>\n      <td>N</td>\n      <td>19.0</td>\n    </tr>\n    <tr>\n      <th>5</th>\n      <td>Y</td>\n      <td>Y</td>\n      <td>Y</td>\n      <td>Y</td>\n      <td>Y</td>\n      <td>Y</td>\n      <td>Y</td>\n      <td>Y</td>\n      <td>Y</td>\n      <td>Y</td>\n      <td>...</td>\n      <td>Y</td>\n      <td>Y</td>\n      <td>Y</td>\n      <td>Y</td>\n      <td>Y</td>\n      <td>Y</td>\n      <td>Y</td>\n      <td>Y</td>\n      <td>N</td>\n      <td>23.0</td>\n    </tr>\n  </tbody>\n</table>\n<p>5 rows × 26 columns</p>\n</div>"
     },
     "metadata": {},
     "execution_count": 29
    }
   ],
   "source": [
    "cleanedData.head()"
   ]
  },
  {
   "cell_type": "code",
   "execution_count": 56,
   "metadata": {},
   "outputs": [],
   "source": [
    "from collections import Counter\n",
    "\n",
    "process = lambda data: dict(Counter([d for d in data.values if d in ['Y', 'N']]))\n",
    "\n",
    "dictData = {name:process(data) for name, data in cleanedData.iteritems()}\n",
    "dictData['Total Marks'] = list(cleanedData['Total Marks'])"
   ]
  },
  {
   "cell_type": "code",
   "execution_count": 64,
   "metadata": {},
   "outputs": [],
   "source": [
    "import json\n",
    "with open('data.json', 'w', encoding='utf-8') as file:\n",
    "    json.dump(dictData, file, indent=2)"
   ]
  },
  {
   "cell_type": "code",
   "execution_count": null,
   "metadata": {},
   "outputs": [],
   "source": []
  },
  {
   "cell_type": "code",
   "execution_count": 65,
   "metadata": {},
   "outputs": [
    {
     "output_type": "execute_result",
     "data": {
      "text/plain": [
       "<zip at 0x13570408>"
      ]
     },
     "metadata": {},
     "execution_count": 65
    }
   ],
   "source": [
    "grades = [\n",
    "    23.0,\n",
    "    21.0,\n",
    "    15.0,\n",
    "    19.0,\n",
    "    23.0,\n",
    "    24.0,\n",
    "    20.0,\n",
    "    23.0,\n",
    "    23.5,\n",
    "    22.0,\n",
    "    22.0,\n",
    "    11.0,\n",
    "    8.0,\n",
    "    22.5,\n",
    "    24.0,\n",
    "    22.5,\n",
    "    7.0,\n",
    "    23.0,\n",
    "    23.0,\n",
    "    22.0,\n",
    "    21.5,\n",
    "    24.0,\n",
    "    18.5,\n",
    "    25.0,\n",
    "    22.5,\n",
    "    21.0,\n",
    "    19.0,\n",
    "    15.0,\n",
    "    21.0,\n",
    "    24.0,\n",
    "    10.0,\n",
    "    21.5,\n",
    "    12.0,\n",
    "    20.5\n",
    "]\n",
    "\n",
    "groups = [\n",
    "    \"Group 1\",\n",
    "    \"Group 2\",\n",
    "    \"Group 3\",\n",
    "    \"Group 4\",\n",
    "    \"Group 5\",\n",
    "    \"Group 6\",\n",
    "    \"Group 7\",\n",
    "    \"Group 8\",\n",
    "    \"Group 9\",\n",
    "    \"Group 10\",\n",
    "    \"Group 11\",\n",
    "    \"Group 12\",\n",
    "    \"Group 13\",\n",
    "    \"Group 14\",\n",
    "    \"Group 15\",\n",
    "    \"Group 16\",\n",
    "    \"Group 18\",\n",
    "    \"Group 19\",\n",
    "    \"Group 20\",\n",
    "    \"Group 21\",\n",
    "    \"Group 22\",\n",
    "    \"Group 23\",\n",
    "    \"Group 24\",\n",
    "    \"Group 25\",\n",
    "    \"Group 26\",\n",
    "    \"Group 29\",\n",
    "    \"Group 30\",\n",
    "    \"Group 33\",\n",
    "    \"Group 34\",\n",
    "    \"Group 36\",\n",
    "    \"Group 40\",\n",
    "    \"Group 48\",\n",
    "    \"Group 49\",\n",
    "    \"Group 50\"\n",
    "]\n",
    "\n",
    "zip(groups, grades)"
   ]
  },
  {
   "cell_type": "code",
   "execution_count": null,
   "metadata": {},
   "outputs": [],
   "source": []
  }
 ]
}